{
 "cells": [
  {
   "cell_type": "code",
   "execution_count": 1,
   "metadata": {},
   "outputs": [
    {
     "name": "stdout",
     "output_type": "stream",
     "text": [
      "Processing these tickers: ['AARTIPHARM.NS', 'BECTORFOOD.NS', 'IXIGO.NS']\n"
     ]
    }
   ],
   "source": [
    "from portfolio_optimizer import optimize_portfolio\n",
    "investment_amount = 100000\n",
    "selected_items = ['Aarti Pharmalabs Limited', 'Mrs. Bectors Food Specialities Limited', 'Le Travenues Technology Limited']\n",
    "recommendations, expected_return, volatility, total_invested = optimize_portfolio(investment_amount, selected_items)"
   ]
  },
  {
   "cell_type": "code",
   "execution_count": 2,
   "metadata": {},
   "outputs": [
    {
     "data": {
      "text/plain": [
       "[{'stock': 'AARTIPHARM',\n",
       "  'weight': 0.30699707675584414,\n",
       "  'shares': 47,\n",
       "  'investment': 30568.8},\n",
       " {'stock': 'BECTORFOOD',\n",
       "  'weight': 0.6896782039518332,\n",
       "  'shares': 37,\n",
       "  'investment': 67636.0},\n",
       " {'stock': 'IXIGO',\n",
       "  'weight': 0.0033247192923226672,\n",
       "  'shares': 2,\n",
       "  'investment': 290.1}]"
      ]
     },
     "execution_count": 2,
     "metadata": {},
     "output_type": "execute_result"
    }
   ],
   "source": [
    "recommendations"
   ]
  }
 ],
 "metadata": {
  "kernelspec": {
   "display_name": "Python 3",
   "language": "python",
   "name": "python3"
  },
  "language_info": {
   "codemirror_mode": {
    "name": "ipython",
    "version": 3
   },
   "file_extension": ".py",
   "mimetype": "text/x-python",
   "name": "python",
   "nbconvert_exporter": "python",
   "pygments_lexer": "ipython3",
   "version": "3.10.11"
  }
 },
 "nbformat": 4,
 "nbformat_minor": 2
}
