{
 "cells": [
  {
   "cell_type": "code",
   "execution_count": null,
   "metadata": {},
   "outputs": [],
   "source": [
    "# NSE\n",
    "import requests\n",
    "import pandas as pd\n",
    "import io\n",
    "\n",
    "nse_url = \"https://nsearchives.nseindia.com/content/equities/EQUITY_L.csv\"\n",
    "\n",
    "# create Session from 'real' browser\n",
    "headers = {\n",
    "    'User-Agent': 'Mozilla/5.0'\n",
    "}\n",
    "\n",
    "s = requests.Session()\n",
    "s.headers.update(headers)\n",
    "\n",
    "# do a get call now\n",
    "url = 'https://nsearchives.nseindia.com/content/equities/EQUITY_L.csv'\n",
    "r = s.get(nse_url)\n",
    "s.close()\n",
    "\n",
    "# saving it to pd df for further preprocessing\n",
    "df_nse = pd.read_csv(io.BytesIO(r.content))\n",
    "df_nse"
   ]
  },
  {
   "cell_type": "code",
   "execution_count": 10,
   "metadata": {},
   "outputs": [],
   "source": [
    "# from splinter import Browser\n",
    "# from selenium import webdriver\n",
    "# import time, os\n",
    "\n",
    "# download_dir = \"/tmp\"\n",
    "# bse_link = \"'https://mock.bseindia.com/corporates/List_Scrips.html'\"\n",
    "\n",
    "# # change download directory if required\n",
    "# prefs = {\"download.default_directory\": download_dir};\n",
    "\n",
    "# options = webdriver.ChromeOptions()\n",
    "# options.add_experimental_option(\"prefs\", prefs)\n",
    "\n",
    "# # intiate browser \n",
    "# browser = Browser('chrome', options=options, headless=True)\n",
    "\n",
    "# # visit link\n",
    "# browser.visit(bse_link)\n",
    "\n",
    "# # fill out form fields\n",
    "# browser.find_by_id('ddlsegment').select(\"Equity\")\n",
    "# browser.find_by_id('ddlstatus').select(\"Active\")\n",
    "\n",
    "# # hit submit button\n",
    "# browser.find_by_id('btnSubmit').click()\n",
    "\n",
    "# # let the table load \n",
    "# browser.is_element_present_by_text(\"Issuer Name\")\n",
    "# time.sleep(5)\n",
    "\n",
    "# # download\n",
    "# browser.find_by_id('lnkDownload').click()\n",
    "\n",
    "# df_bse = pd.read_csv(os.path.join(download_dir, \"Equity.csv\"))\n",
    "# df_bse"
   ]
  },
  {
   "cell_type": "code",
   "execution_count": null,
   "metadata": {},
   "outputs": [],
   "source": [
    "# # Merge the list \n",
    "# # some columns naming convention was different\n",
    "# df_bse = df_bse.rename(columns={\n",
    "#     \"Security Name\": \"NAME OF COMPANY\",\n",
    "#     \"Security Id\": \"SYMBOL\"\n",
    "# })\n",
    "\n",
    "# # merged on SYMBOL\n",
    "# final_df = pd.merge(df_nse, df_bse, on='SYMBOL',  how=\"outer\")"
   ]
  },
  {
   "cell_type": "code",
   "execution_count": null,
   "metadata": {},
   "outputs": [],
   "source": [
    "# download all the data\n",
    "import yfinance as yf\n",
    "import pandas as pd\n",
    "from datetime import datetime, timedelta\n",
    "\n",
    "# Function to download stock data\n",
    "def download_stock_data(ticker, start_date, end_date):\n",
    "    stock_data = yf.download(ticker, start=start_date, end=end_date)\n",
    "    # if 'Adj Close' in stock_data.columns:\n",
    "    #     return stock_data['Adj Close']\n",
    "    return stock_data\n",
    "\n",
    "\n",
    "# Set the date range for the last 10 years\n",
    "end_date = datetime.now().date()\n",
    "start_date = end_date - timedelta(days=10*365)\n",
    "\n",
    "# Download data for each ticker and save it in a separate CSV file\n",
    "tickers = df_nse['SYMBOL']\n",
    "\n",
    "for ticker in tickers:\n",
    "    print(f\"Downloading data for {ticker}...\")\n",
    "    data = download_stock_data(ticker+'.NS', start_date, end_date)\n",
    "    if data is not None:\n",
    "        # Save to CSV file\n",
    "        # csv_filename = f\"{ticker.replace('.NS', '')}_adj_close_last_10_years.csv\"\n",
    "        data.to_csv('/workspaces/Finoobs/Portfolio Optimization/stocks/'+ticker+'.csv')\n",
    "        print(f\"Saved data to {ticker}\")\n",
    "\n",
    "print(\"Data download and saving complete.\")"
   ]
  },
  {
   "cell_type": "code",
   "execution_count": null,
   "metadata": {},
   "outputs": [],
   "source": [
    "df_nse['SYMBOL'][:10]"
   ]
  }
 ],
 "metadata": {
  "kernelspec": {
   "display_name": "Python 3",
   "language": "python",
   "name": "python3"
  },
  "language_info": {
   "codemirror_mode": {
    "name": "ipython",
    "version": 3
   },
   "file_extension": ".py",
   "mimetype": "text/x-python",
   "name": "python",
   "nbconvert_exporter": "python",
   "pygments_lexer": "ipython3",
   "version": "3.12.1"
  }
 },
 "nbformat": 4,
 "nbformat_minor": 2
}
